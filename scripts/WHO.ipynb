{
 "cells": [
  {
   "cell_type": "code",
   "execution_count": 1,
   "metadata": {},
   "outputs": [],
   "source": [
    "import requests\n",
    "import xml.etree.ElementTree as ET"
   ]
  },
  {
   "cell_type": "code",
   "execution_count": 2,
   "metadata": {},
   "outputs": [],
   "source": [
    "def get_dimension_values(xml_response, dimension_label):\n",
    "    \"\"\"\n",
    "    Extracts all possible values for a given dimension from the XML response.\n",
    "\n",
    "    Args:\n",
    "    - xml_response: The XML response as a string.\n",
    "    - dimension_label: The label of the dimension (e.g., 'SEX', 'AGEGROUP', 'COUNTRY', 'YEAR').\n",
    "\n",
    "    Returns:\n",
    "    - A list of possible values for the specified dimension.\n",
    "    \"\"\"\n",
    "    # Parse the XML response\n",
    "    root = ET.fromstring(xml_response)\n",
    "    \n",
    "    # Initialize an empty list to store the possible values\n",
    "    dimension_values = []\n",
    "    \n",
    "    # Find all Code elements under the specified Dimension element\n",
    "    for code in root.findall(f\".//Dimension[@Label='{dimension_label}']/Code\"):\n",
    "        # Extract the Label attribute which represents the value\n",
    "        dimension_value = code.get('Label')\n",
    "        # Append the value to the list\n",
    "        dimension_values.append(dimension_value)\n",
    "    \n",
    "    return dimension_values"
   ]
  },
  {
   "cell_type": "code",
   "execution_count": 4,
   "metadata": {},
   "outputs": [
    {
     "name": "stdout",
     "output_type": "stream",
     "text": [
      "SEX Values: ['MLE', 'FMLE', 'BTSX', 'UNK', 'NOA']\n",
      "AGEGROUP Values: ['AGELT1', 'AGE5-9', 'AGE10-14', 'AGE15-19', 'AGE20-24', 'AGE25-29', 'AGE30-34', 'AGE35-39', 'AGE40-44', 'AGE45-49', 'AGE50-54', 'AGE55-59', 'AGE60-64', 'AGE65-69', 'AGE70-74', 'AGE75-79', 'AGE80-84', 'AGE85-89', 'AGE90-94', 'AGE95-99', 'AGE100+', 'AGE0-4', 'AGE15-29', 'AGE30-44', 'AGE45-59', 'AGE60-69', 'AGE70-79', 'AGE80+', 'AGEAll', 'AGE0year', 'AGE1-4', 'AGE5-14', 'AGE15-24', 'AGE25-34', 'AGE35-44', 'AGE45-54', 'AGE55-64', 'AGE65-74', 'AGE75+', 'AGEUnspecified', 'AGE30-59', 'AGE0-14', 'AGE15-59', 'AGE60+', 'AGE15-PLUS', 'AGE20-PLUS', 'AGE25-PLUS', 'AGE15-18', 'AGE15-20', 'AGE15-39', 'AGE15-44', 'AGE15-46', 'AGE15-49', 'AGE15-50', 'AGE15-54', 'AGE15-60', 'AGE15-64', 'AGE15-70', 'AGE15-74', 'AGE15-79', 'AGE15-80', 'AGE15-84', 'AGE15-93', 'AGE15-95', 'AGE16-19', 'AGE16-24', 'AGE16-29', 'AGE16-49', 'AGE16-54', 'AGE16-64', 'AGE16-74', 'AGE16-79', 'AGE16-84', 'AGE17-24', 'AGE18-18', 'AGE18-19', 'AGE18-20', 'AGE18-22', 'AGE18-24', 'AGE18-28', 'AGE18-29', 'AGE18-34', 'AGE18-35', 'AGE18-40', 'AGE18-41', 'AGE18-44', 'AGE18-49', 'AGE18-55', 'AGE18-59', 'AGE18-60', 'AGE18-64', 'AGE18-65', 'AGE18-69', 'AGE18-74', 'AGE18-75', 'AGE18-79', 'AGE18-84', 'AGE18-99', 'AGE19-24', 'AGE19-29', 'AGE19-34', 'AGE19-44', 'AGE19-49', 'AGE19-59', 'AGE19-64', 'AGE20-20', 'AGE20-25', 'AGE20-29', 'AGE20-30', 'AGE20-34', 'AGE20-39', 'AGE20-44', 'AGE20-49', 'AGE20-59', 'AGE20-60', 'AGE20-64', 'AGE20-65', 'AGE20-69', 'AGE20-70', 'AGE20-74', 'AGE20-79', 'AGE20-85', 'AGE20-90', 'AGE21-30', 'AGE21-34', 'AGE23-27', 'AGE24-35', 'AGE25-25', 'AGE25-30', 'AGE25-35', 'AGE25-39', 'AGE25-44', 'AGE25-45', 'AGE25-49', 'AGE25-64', 'AGE25-65', 'AGE25-69', 'AGE25-74', 'AGE26-26', 'AGE28-32', 'AGE30-35', 'AGE30-39', 'AGE30-40', 'AGE30-49', 'AGE30-54', 'AGE30-70', 'AGE30-74', 'AGE30-79', 'AGE31-36', 'AGE31-39', 'AGE31-40', 'AGE31-50', 'AGE33-37', 'AGE33-38', 'AGE34-44', 'AGE35-29', 'AGE35-34', 'AGE35-35', 'AGE35-40', 'AGE35-45', 'AGE35-49', 'AGE35-54', 'AGE35-55', 'AGE35-59', 'AGE35-60', 'AGE35-64', 'AGE35-74', 'AGE36-36', 'AGE36-45', 'AGE36-47', 'AGE36-50', 'AGE37-42', 'AGE37-43', 'AGE38-42', 'AGE39-43', 'AGE40-45', 'AGE40-49', 'AGE40-50', 'AGE40-59', 'AGE40-65', 'AGE40-69', 'AGE40-79', 'AGE40-80', 'AGE40-84', 'AGE41-50', 'AGE42-65', 'AGE43-43', 'AGE43-47', 'AGE43-48', 'AGE44-48', 'AGE44-49', 'AGE45-45', 'AGE45-50', 'AGE45-55', 'AGE45-64', 'AGE45-66', 'AGE45-69', 'AGE46-55', 'AGE46-64', 'AGE48-52', 'AGE48-59', 'AGE49-49', 'AGE49-53', 'AGE49-54', 'AGE50-55', 'AGE50-59', 'AGE50-64', 'AGE50-65', 'AGE50-79', 'AGE51-59', 'AGE51-60', 'AGE51-64', 'AGE53-53', 'AGE53-57', 'AGE53-75', 'AGE54-59', 'AGE54-74', 'AGE55-54', 'AGE55-55', 'AGE55-60', 'AGE55-65', 'AGE55-74', 'AGE56-65', 'AGE56-75', 'AGE58-64', 'AGE60-65', 'AGE60-70', 'AGE60-74', 'AGE60-79', 'AGE60-85', 'AGE60-90', 'AGE60-97', 'AGE61-66', 'AGE61-70', 'AGE61-75', 'AGE65-65', 'AGE65-70', 'AGE65-75', 'AGE65-79', 'AGE65-84', 'AGE67-72', 'AGE67-79', 'AGE70-75', 'AGE70-93', 'AGE73-80', 'AGE75-84', 'AGE15-100', 'AGE16-100', 'AGE17-100', 'AGE18-100', 'AGE19-100', 'AGE20-100', 'AGE21-100', 'AGE25-100', 'AGE30-100', 'AGE35-100', 'AGE40-100', 'AGE45-100', 'AGE47-100', 'AGE50-100', 'AGE51-100', 'AGE55-100', 'AGE60-100', 'AGE60-102', 'AGE61-100', 'AGE65-100', 'AGE66-100', 'AGE67-100', 'AGE70-100', 'AGE71-100', 'AGE75-100', 'AGE80-100', 'AGE80-102', 'AGE85-100', 'AGE95-100', 'NA', 'AGE0-29', 'AGE50+', 'AGE100 ', 'DAYS0-27', 'MONTHS1-59', 'YEARS0-4', 'YEARS05-14', 'YEARS15-29', 'YEARS30-49', 'YEARS50-69', 'YEARS70+', 'AGEAdult', 'AGEYouth', 'YEARS0-5', 'YEARS6-11', 'YEARS12+', 'YEARS15-69', 'YEARS50-59', 'YEARS60-69', 'YEARS30-59', 'YEARS70PLUS', 'YEARSLESS18', 'AGE45-PLUS', 'YEARS18-PLUS', 'YEARS11-17', 'YEARS15-PLUS', 'YEARS13-15', 'YEARS00-09', 'YEARS010-19', 'YEARS20-29', 'YEARS30-39', 'YEARS40-49', 'YEARS10-19', 'AGE100PLUS', 'YEARSALL', 'YEARS05-09', 'YEARS10-29', 'YEARS50PLUS', 'YEARSLESSEQ15', 'YEARS15', 'YEARS10', 'YEARSUNDER5', 'YEARS18-29', 'YEARS15-24', 'YEARS15PLUS', 'YEARS20PLUS', 'YEARS25PLUS', 'YEARS20-24', 'YEARS15-49', 'YEARS10PLUS', 'YEARS10-14', 'YEARS15-19', 'YEARS85PLUS', 'YEARS05-19', 'YEARS20-49', 'AGE85PLUS', 'YEARS25-29', 'YEARS70-79', 'YEARS80PLUS', 'AGE18-50', 'YEARSLESS15', 'YEARS00-02', 'YEARS02-05', 'YEARS02-14', 'YEARS01-14', 'YEARS00-01', 'YEARS75-84', 'YEARS65-74', 'YEARS55-64', 'YEARS45-54', 'YEARS35-44', 'YEARS25-34', 'YEARS05-17', 'YEARS00-04', 'MONTHS0-5', 'MONTHS0-11', 'MONTHS0-23', 'MONTHS6-8', 'MONTHS6-11', 'MONTHS6-23', 'MONTHS6-59', 'MONTHS9-11', 'MONTHS12-17', 'MONTHS12-23', 'MONTHS12-59', 'MONTHS18-23', 'MONTHS24-29', 'MONTHS24-35', 'MONTHS24-59', 'MONTHS30-35', 'MONTHS36-41', 'MONTHS36-47', 'MONTHS36-59', 'MONTHS42-47', 'MONTHS48-53', 'MONTHS48-59', 'MONTHS54-59', 'AGELT60', 'MONTHS0-1', 'MONTHS2-3', 'MONTHS4-5', 'MONTHS12-15', 'MONTHS16-19', 'MONTHS20-23']\n",
      "COUNTRY Values: ['AFG', 'ALB', 'DZA', 'AND', 'AGO', 'ATG', 'ARG', 'ARM', 'AUS', 'AUT', 'AZE', 'BHS', 'BHR', 'BGD', 'BRB', 'BLR', 'BEL', 'BLZ', 'BEN', 'BTN', 'BOL', 'BIH', 'BWA', 'BRA', 'BRN', 'BGR', 'BFA', 'BDI', 'KHM', 'CMR', 'CAN', 'CPV', 'CAF', 'TCD', 'CHL', 'CHN', 'COL', 'COM', 'COG', 'COK', 'CRI', 'HRV', 'CUB', 'CYP', 'CZE', 'CIV', 'PRK', 'COD', 'DNK', 'DJI', 'DMA', 'DOM', 'ECU', 'EGY', 'SLV', 'GNQ', 'ERI', 'EST', 'ETH', 'FJI', 'FIN', 'FRA', 'GAB', 'GMB', 'GEO', 'DEU', 'GHA', 'GRC', 'GRD', 'GTM', 'GIN', 'GNB', 'GUY', 'HTI', 'HND', 'HUN', 'ISL', 'IND', 'IDN', 'IRN', 'IRQ', 'IRL', 'ISR', 'ITA', 'JAM', 'JPN', 'JOR', 'KAZ', 'KEN', 'KIR', 'KWT', 'KGZ', 'LAO', 'LVA', 'LBN', 'LSO', 'LBR', 'LBY', 'LTU', 'LUX', 'MDG', 'MWI', 'MYS', 'MDV', 'MLI', 'MLT', 'MHL', 'MRT', 'MUS', 'MEX', 'FSM', 'MCO', 'MNG', 'ME1', 'MAR', 'MOZ', 'MMR', 'NAM', 'NRU', 'NPL', 'NLD', 'NZL', 'NIC', 'NER', 'NGA', 'NIU', 'NOR', 'OMN', 'PAK', 'PLW', 'PAN', 'PNG', 'PRY', 'PER', 'PHL', 'POL', 'PRT', 'QAT', 'KOR', 'MDA', 'ROU', 'RUS', 'RWA', 'KNA', 'LCA', 'VCT', 'WSM', 'SMR', 'STP', 'SAU', 'SEN', 'SRB', 'SYC', 'SLE', 'SGP', 'SVK', 'SVN', 'SLB', 'SOM', 'ZAF', 'ESP', 'LKA', 'SDN', 'SUR', 'SWZ', 'SWE', 'CHE', 'SYR', 'TJK', 'THA', 'MKD', 'TLS', 'TGO', 'TON', 'TTO', 'TUN', 'TUR', 'TKM', 'TUV', 'UGA', 'UKR', 'ARE', 'GBR', 'TZA', 'USA', 'URY', 'UZB', 'VUT', 'VEN', 'VNM', 'YEM', 'ZMB', 'ZWE', 'MNE', 'REU', 'XOD', 'AIA', 'ABW', 'BMU', 'VGB', 'CYM', 'FLK', 'GLP', 'MTQ', 'MSR', 'ANT', 'PRI', 'SPM', 'TCA', 'VIR', 'XX1', 'HKG', 'MAC', 'XX4', 'XX5', 'XX6', 'XX7', 'XX8', 'XX9', 'GUF', 'X10', 'X11', 'X12', 'X13', 'SCG', 'PSE', 'NA', 'GUM', 'MYT', 'PYF', 'FRO', 'GRL', 'SHN', 'NCL', 'ASM', 'TKL', 'MNP', 'GIB', 'LIE', 'PCN', 'WLF', 'NFK', 'BES', 'CUW', 'SXM', 'SSD', 'SDF', 'CHI', 'IMN', 'XKX']\n",
      "YEAR Values: ['1920', '1949', '1950', '1951', '1952', '1953', '1954', '1955', '1956', '1957', '1958', '1959', '1960', '1961', '1962', '1963', '1964', '1965', '1966', '1967', '1968', '1969', '1970', '1971', '1972', '1973', '1974', '1975', '1976', '1977', '1978', '1979', '1980', '1981', '1982', '1983', '1984', '1985', '1986', '1987', '1988', '1989', '1990', '1990-1994', '1991', '1992', '1993', '1994', '1995', '1995-1999', '1996', '1997', '1998', '1999', '2000', '2000-2004', '2001-2002', '2001', '2002', '2002-2003', '2003-2004', '2003', '2004', '2004-2005', '2004-2012', '2005-2006', '2005', '2006', '2006-2007', '2007-2008', '2007', '2008', '2008-2009', '2009-2010', '2009', '2010', '2010-2011', '2003-2011', '2011-2012', '2011', '2012', '2020', '2030', '2040', '2050', '2003-2012', '2001-2012', '2013', '2015', '2025', '2014', 'PROJECTION2015', 'PROJECTION2030', '2005-2010', '2008-2010', '2008-2012', '2009-2012', '2010-2012', '2006-2013', '2003-2005', '2006-2010', '2006-2008', '2007-2009', '2009-2011', '2016', '2017', '2018', '2012-2014', '2012-2013', '2007-2010', '2008-2011', '2013-2014', '1988-1990', '1988-1994', '1989-1990', '1990-1991', '1991-1992', '1992-1993', '1993-1994', '1994-1995', '1995-1996', '1996-1997', '1996-1998', '1997-1998', '1998-1999', '1999-2000', '1999-2002', '1999-2004', '2000-2001', '2003-2006', '2011-2013', '2011-2014', '2010-2013', '2004-2006', '2005-2012', '2005-2011', '2007-2014', '2003-2013', '2007-2013', '2007-2012', '1965-1966', '1970-1972', '1963-1975', '1971-1975', '1973-1975', '1974-1975', '1970-1977', '1975-1977', '1976-1977', '1977-1978', '1973-1979', '1974-1979', '1978-1979', '1977-1980', '1978-1981', '1980-1982', '1981-1982', '1982-1983', '1983-1984', '1983-1985', '1985-1986', '1985-1987', '1980-1988', '1986-1988', '1987-1988', '1985-1989', '1987-1989', '1988-1989', '2005-2013', '2014-2015', '2011-2015', '2001-2005', '2005-2015', '2006-2014', '2010-2015', '1937', '1941', '1970-1971', '1978-1983', '1979-1980', '1979-1983', '1984-1986', '1985-1990', '1986-1987', '1987-1991', '1988-1991', '1989-1991', '1989-1995', '1992-1994', '2003-2007', '2002-2010', '2005-2007', '2015-2016', '2005-2008', '2004-2008', '2003-2008', '2009-2015', '2010-2016', '1986-1990', '1984-1985', '1994-1997', '2013-2015', 'EARLY70s', '1961-1965', '1964-1968', '1911-1915', '2016-2017', '2013-2017', '2011-2017', '2013-2016', '2011-2016', '2012-2015', '2009-2014', '2008-2014', '2009-2013', '2008-2013', '2006-2012', '2006-2011', '2004-2009', '2003-2009', '2002-2007', '2001-2007', '2000-2005', '2012-2017', '2014-2016', '2014-2017', '2004-2010', '2010-2017', '2012-2016', '2015-2017', '2013-2018', '2012-2018', '2016-2018', '2017-2018', '2002-2004', '2019', '1993-1996', '2010-2014', '1985-1991', '1986-1991', '1986-1992', '1987-1992', '1987-1993', '1988-1993', '1989-1994', '1990-1993', '1990-1995', '1990-1996', '1991-1994', '1991-1995', '1991-1996', '1991-1997', '1992-1995', '1992-1997', '1993-1998', '1993-1999', '1994-1996', '1994-1999', '1994-2000', '1995-1998', '1995-2000', '1995-2001', '1996-1999', '1996-2000', '1996-2001', '1996-2002', '1997-2001', '1997-2002', '1997-2003', '1998-2001', '1998-2003', '1998-2004', '1999-2006', '2000-2003', '2000-2006', '2001-2006', '2002-2005', '2002-2008', '2005-2017', '1995-2016', '1996-2015', '2005-2016', '2007-2016', '2019-2020', '2018-2019', '2015-2020', '2011-2018', '2013-2019', '2014-2018', '2014-2019', '2016-2019', '2017-2019', '1985-2000', '1986-1993', '1988-1992', '1992-1996', '1993-1995', '1993-2000', '1995-1997', '1998-1993', '1999-2005', '2005-2009', '1993-1997', '2001-2003', '2021', '2022', '2023', '2024', '2012-2019', '2029', '2028', '2027', '2026', '2014-2020', '2017-2020', '2015-2018', '2015-2019', '1932', '1933', '1934', '1935', '1936', '1938', '1939', '1940', '1942', '1943', '1944', '1945', '1946', '1947', '1948', '2015-2021', '2019-2021', '2020-2021', '2017-2021', '2021-2022', '2014-2021', '2016-2021', '2017-2022', '2018-2021', '2019-2022', '2020-2022', '2020-2023']\n"
     ]
    }
   ],
   "source": [
    "dimension_codes = [\"SEX\", \"AGEGROUP\", \"COUNTRY\", \"YEAR\"]\n",
    "\n",
    "SEX_values = []\n",
    "AGEGROUP_values = []\n",
    "COUNTRY_values = []\n",
    "YEAR_values = []\n",
    "\n",
    "dim_code = dimension_codes[0]\n",
    "url = f\"http://apps.who.int/gho/athena/api/{dim_code}\"\n",
    "response = requests.get(url)\n",
    "SEX_values = get_dimension_values(response.text, dim_code)\n",
    "print(f\"{dim_code} Values:\", SEX_values)\n",
    "\n",
    "dim_code = dimension_codes[1]\n",
    "url = f\"http://apps.who.int/gho/athena/api/{dim_code}\"\n",
    "response = requests.get(url)\n",
    "AGEGROUP_values = get_dimension_values(response.text, dim_code)\n",
    "print(f\"{dim_code} Values:\", AGEGROUP_values)\n",
    "\n",
    "dim_code = dimension_codes[2]\n",
    "url = f\"http://apps.who.int/gho/athena/api/{dim_code}\"\n",
    "response = requests.get(url)\n",
    "COUNTRY_values = get_dimension_values(response.text, dim_code)\n",
    "print(f\"{dim_code} Values:\", COUNTRY_values)\n",
    "\n",
    "dim_code = dimension_codes[3]\n",
    "url = f\"http://apps.who.int/gho/athena/api/{dim_code}\"\n",
    "response = requests.get(url)\n",
    "YEAR_values = get_dimension_values(response.text, dim_code)\n",
    "print(f\"{dim_code} Values:\", YEAR_values)"
   ]
  },
  {
   "cell_type": "code",
   "execution_count": 5,
   "metadata": {},
   "outputs": [
    {
     "name": "stdout",
     "output_type": "stream",
     "text": [
      "5 380 250 344\n"
     ]
    }
   ],
   "source": [
    "print(len(SEX_values), len(AGEGROUP_values), len(COUNTRY_values), len(YEAR_values))"
   ]
  },
  {
   "cell_type": "code",
   "execution_count": 14,
   "metadata": {},
   "outputs": [
    {
     "name": "stdout",
     "output_type": "stream",
     "text": [
      "{\"@odata.context\":\"https://ghoapi.azureedge.net/api/$metadata#DIMENSION\",\"value\":[{\"Code\":\"ADVERTISINGTYPE\",\"Title\":\"SUBSTANCE_ABUSE_ADVERTISING_TYPES\"},{\"Code\":\"AGEGROUP\",\"Title\":\"Age Group\"},{\"Code\":\"ALCOHOLTYPE\",\"Title\":\"Beverage Types\"},{\"Code\":\"AMRGLASSCATEGORY\",\"Title\":\"AMR GLASS Category\"},{\"Code\":\"ARCHIVE\",\"Title\":\"Archive date\"},{\"Code\":\"ASSISTIVETECHBARRIER\",\"Title\":\"Barriers to accessing assistive products\"},{\"Code\":\"ASSISTIVETECHFUNDING\",\"Title\":\"Funding for assistive tech products\"},{\"Code\":\"ASSISTIVETECHPRODUCT\",\"Title\":\"Assistive technology product\"},{\"Code\":\"ASSISTIVETECHSATIACTIVITY\",\"Title\":\"Satisfaction with assistive products for different environments and activities\"},{\"Code\":\"ASSISTIVETECHSATISERVICE\",\"Title\":\"Satisfaction with assistive products and related services\"},{\"Code\":\"ASSISTIVETECHSOURCE\",\"Title\":\"Sources of assistive products\"},{\"Code\":\"ASSISTIVETECHSUBQUESTION\",\"Title\":\"Assistive technology subquestion\"},{\"Code\":\"ASSISTIVETECHTRAVELDISTANCE\",\"Title\":\"Travel distance to obtain assistive products\"},{\"Code\":\"AWARENESSACTIVITYTYPE\",\"Title\":\"SUBSTANCE_ABUSE_AWARENESS_ACTIVITY_TYPES\"},{\"Code\":\"BACGROUP\",\"Title\":\"SUBSTANCE_ABUSE_BAC_GROUPS\"},{\"Code\":\"BEVERAGE\",\"Title\":\"Beverage\"},{\"Code\":\"BEVERAGETYPE\",\"Title\":\"Beverage type\"},{\"Code\":\"CAREPATIENT\",\"Title\":\"Patient type\"},{\"Code\":\"CARESECTOR\",\"Title\":\"Care sector\"},{\"Code\":\"CCH_SUBQUESTION\",\"Title\":\"CCH Survey sub-question\"},{\"Code\":\"CHILDCAUSE\",\"Title\":\"Cause of death\"},{\"Code\":\"CLINICALSUPERVISION\",\"Title\":\"RSUD_CLINICAL_SUPERVISION\"},{\"Code\":\"COMMUNITYACTIONTYPE\",\"Title\":\"Community Action\"},{\"Code\":\"CONSUMPTIONTYPE\",\"Title\":\"Consumption type\"},{\"Code\":\"COORDINATINGENTITIES\",\"Title\":\"SUBSTANCE_ABUSE_COORDINATING_ENTITIES\"},{\"Code\":\"COUNTRY\",\"Title\":\"Country\"},{\"Code\":\"COUNTY\",\"Title\":\"County\"},{\"Code\":\"DATANATURE\",\"Title\":\"Data nature\"},{\"Code\":\"DATASOURCE\",\"Title\":\"Data source\"},{\"Code\":\"DHSMICSGEOREGION\",\"Title\":\"DHS/MICS subnational regions (Health equity monitor)\"},{\"Code\":\"DONORTYPE\",\"Title\":\"Donor type\"},{\"Code\":\"DRINKDRIVINGDEFINITIONTYPE\",\"Title\":\"Drinking and Driving Definition Type\"},{\"Code\":\"DRIVERTYPE\",\"Title\":\"Driver Type\"},{\"Code\":\"DRIVINGTESTTYPE\",\"Title\":\"Driving Test Type\"},{\"Code\":\"DRUG\",\"Title\":\"RSUD_DRUGS\"},{\"Code\":\"DRUGPRESCRIPTION\",\"Title\":\"RSUD_DRUG_PRESCRIPTION\"},{\"Code\":\"DRUGSUPERVISION\",\"Title\":\"RSUD_DRUG_SUPERVISION\"},{\"Code\":\"EDUCATIONLEVEL\",\"Title\":\"Education Level\"},{\"Code\":\"EMFBODYPART\",\"Title\":\"Body part\"},{\"Code\":\"EMFEXPOSED\",\"Title\":\"Exposed\"},{\"Code\":\"EMFFREQUENCY\",\"Title\":\"Frequency\"},{\"Code\":\"EMFRADIOBAND\",\"Title\":\"Radio band\"},{\"Code\":\"ENVCAUSE\",\"Title\":\"Cause\"},{\"Code\":\"EXCISETAXTYPE\",\"Title\":\"Excise tax type\"},{\"Code\":\"FAOREGION\",\"Title\":\"FAO region\"},{\"Code\":\"FOODBORNE_HAZARD1\",\"Title\":\"Foodborne hazard (Level 1)\"},{\"Code\":\"FOODBORNE_HAZARD2\",\"Title\":\"Foodborne hazard (Level 2)\"},{\"Code\":\"FOODBORNE_HAZARD3\",\"Title\":\"Foodborne hazard (Level 3)\"},{\"Code\":\"GBDCHILDCAUSES\",\"Title\":\"Child cause\"},{\"Code\":\"GBDREGION\",\"Title\":\"GBD Region\"},{\"Code\":\"GHECAUSE\",\"Title\":\"GHE cause of death codes\"},{\"Code\":\"GHECAUSELEVEL1\",\"Title\":\"Cause group\"},{\"Code\":\"GHECAUSELEVEL2\",\"Title\":\"Cause\"},{\"Code\":\"GHECAUSELEVEL3\",\"Title\":\"Subcause group\"},{\"Code\":\"GHECAUSELEVEL4\",\"Title\":\"Subcause\"},{\"Code\":\"GHECAUSES\",\"Title\":\"Causes\"},{\"Code\":\"GHO\",\"Title\":\"Indicator\"},{\"Code\":\"GLASSAMCAWARE_ANTIBIOTICSGROUP\",\"Title\":\"AWARE Antibiotics group\"},{\"Code\":\"GLOBAL\",\"Title\":\"Global\"},{\"Code\":\"GOEQUESTION\",\"Title\":\"Goe question\"},{\"Code\":\"GOVERNMENTBENEFIT\",\"Title\":\"RSUD_GOVERNMENT_BENEFITS\"},{\"Code\":\"GROUP\",\"Title\":\"RSUD_GROUPS\"},{\"Code\":\"HARMANDCONSEQUENCE\",\"Title\":\"SUBSTANCE_ABUSE_HARM_AND_CONSEQUENCES\"},{\"Code\":\"HEALTHCAREFACILITY\",\"Title\":\"Health care facility type\"},{\"Code\":\"HEALTHSTATUS\",\"Title\":\"Health Status\"},{\"Code\":\"HOUSEHOLD_COMP_BY_AGE\",\"Title\":\"Household composition by age\"},{\"Code\":\"HOUSEHOLDCOOKINGFUEL\",\"Title\":\"Cooking fuel\"},{\"Code\":\"HOUSEHOLDWEALTH\",\"Title\":\"Household wealth\"},{\"Code\":\"IHRSPARCAPACITYLEVEL\",\"Title\":\"IHR SPAR Capacity Level\"},{\"Code\":\"INADEQUACY\",\"Title\":\"Inadequacy\"},{\"Code\":\"KE_CORE\",\"Title\":\"Kenya Core Indicators\"},{\"Code\":\"KE_COUNTY\",\"Title\":\"Kenya Counties\"},{\"Code\":\"LEGISLATIONTYPE\",\"Title\":\"Legislation type\"},{\"Code\":\"MEASUREIMPORTANCETYPE\",\"Title\":\"SUBSTANCE_ABUSE_MEASURE_IMPORTANCE_TYPE\"},{\"Code\":\"MGHEREG\",\"Title\":\"MGHE Region\"},{\"Code\":\"MOTOCYCLEOCCUPANTTYPE\",\"Title\":\"Motorcycle Occupant Type\"},{\"Code\":\"NATIONALSYSTEMTYPE\",\"Title\":\"National System Type\"},{\"Code\":\"NGO\",\"Title\":\"RSUD_NGOS\"},{\"Code\":\"OPENACCESSSERVICE\",\"Title\":\"RSUD_OPEN_ACCESS_SERVICES\"},{\"Code\":\"PATIENTSAFETY_STRATEGICOBJECTIVE\",\"Title\":\"Patient safety strategic objective\"},{\"Code\":\"PATIENTSAFETY_STRATEGY\",\"Title\":\"Patient safety strategy\"},{\"Code\":\"PATIENTSAFETY_SURVEYQUESTION\",\"Title\":\"Patient safety core indicators\"},{\"Code\":\"PENALTYTYPE\",\"Title\":\"Penalty Type\"},{\"Code\":\"PHONEACCESSTYPE\",\"Title\":\"Phone Access Type\"},{\"Code\":\"POLICYADOPTIONLEVEL\",\"Title\":\"SUBSTANCE_ABUSE_POLICY_ADOPTION_LEVELS\"},{\"Code\":\"POLICYFRAMEWORK\",\"Title\":\"SUBSTANCE_ABUSE_POLICY_FRAMEWORKS\"},{\"Code\":\"POLICYSECTOR\",\"Title\":\"SUBSTANCE_ABUSE_POLICY_SECTORS\"},{\"Code\":\"POP_TYPE\",\"Title\":\"Population type\"},{\"Code\":\"PRICE\",\"Title\":\"Price\"},{\"Code\":\"PRICEMEASURETYPE\",\"Title\":\"Price measure types\"},{\"Code\":\"PROGRAMME\",\"Title\":\"RSUD_PROGRAMMES\"},{\"Code\":\"PUBLICPLACE\",\"Title\":\"SUBSTANCE_ABUSE_PUBLIC_PLACES\"},{\"Code\":\"PUBLICPRIVATESETTING\",\"Title\":\"RSUD_PUBLIC_PRIVATE_SETTINGS\"},{\"Code\":\"PUBLISHSTATE\",\"Title\":\"Publish state\"},{\"Code\":\"RADONSUBQUESTIONS\",\"Title\":\"Radon subquestions\"},{\"Code\":\"RCREGION\",\"Title\":\"RC Region\"},{\"Code\":\"REGION\",\"Title\":\"WHO regions\"},{\"Code\":\"RESIDENCEAREATYPE\",\"Title\":\"Residence Area Type\"},{\"Code\":\"ROADUSERTYPE\",\"Title\":\"Road User Type\"},{\"Code\":\"RSUD_HIVHEP_CT\",\"Title\":\"HIV / Hepatitis counselling and treatment\"},{\"Code\":\"RSUDHWF\",\"Title\":\"Human resources / health workforce\"},{\"Code\":\"RSUDMAINSUBSTANCEATTREATMENT\",\"Title\":\"RSUD Main substance at treatment\"},{\"Code\":\"RSUDMAINTENANCEACCESSRESTRICTIONS\",\"Title\":\"Maintenance access restrictions\"},{\"Code\":\"RSUDMONITORING\",\"Title\":\"Monitoring system\"},{\"Code\":\"RSUDPHARMACOTHERAPYOPTION\",\"Title\":\"Pharmacotherapy options\"},{\"Code\":\"RSUDPREVENTIONPROGRAMME\",\"Title\":\"Prevention programmes\"},{\"Code\":\"RSUDREP\",\"Title\":\"Representatives\"},{\"Code\":\"RSUDREPORTING\",\"Title\":\"Sources of reporting\"},{\"Code\":\"RSUDSPECIFICPOPULATION\",\"Title\":\"Specific populations\"},{\"Code\":\"RSUDSUBSTANCEDEPENDENCE\",\"Title\":\"Substance dependence\"},{\"Code\":\"RSUDTREATMENT\",\"Title\":\"Treatment\"},{\"Code\":\"RSUDTREATMENTLOCATION\",\"Title\":\"Treatment location\"},{\"Code\":\"SEATTYPE\",\"Title\":\"Seat Type\"},{\"Code\":\"SEVERITY\",\"Title\":\"Severity\"},{\"Code\":\"SEX\",\"Title\":\"Sex\"},{\"Code\":\"SOCIALCOSTTYPE\",\"Title\":\"SUBSTANCE_ABUSE_SOCIAL_COST_TYPES\"},{\"Code\":\"SOCIOECONOMIC\",\"Title\":\"SOCIOECONOMIC_TYPES\"},{\"Code\":\"SPECIALPOPULATION\",\"Title\":\"RSUD_SPECIAL_POPULATIONS\"},{\"Code\":\"SPONSORSHIPORIGINATOR\",\"Title\":\"Sponsorship originator\"},{\"Code\":\"STANDARDOFCARE\",\"Title\":\"RSUD_STANDARDS_OF_CARE\"},{\"Code\":\"SUBREGION\",\"Title\":\"WHO subregions by child and adult mortality (GBD)\"},{\"Code\":\"SUBSTANCETYPE\",\"Title\":\"RSUD_SUBSTANCE_TYPES\"},{\"Code\":\"SUBSTANCETYPEDISORDER\",\"Title\":\"RSUD_SUBSTANCE_TYPE_DISORDERS\"},{\"Code\":\"SUNBED_ACCESS\",\"Title\":\"Sunbed access restrictions\"},{\"Code\":\"SUNBED_CONTROL\",\"Title\":\"Restriction and inspection of sunbed facilities\"},{\"Code\":\"SUNBED_INFO\",\"Title\":\"Sunbed public information requirements\"},{\"Code\":\"SUNBED_SAFETY\",\"Title\":\"Sunbed facility safety requirements\"},{\"Code\":\"SUNBED_TRAINING\",\"Title\":\"Sunbed facility staff training requirements\"},{\"Code\":\"TB_BENCHMARK\",\"Title\":\"TB Benchmark\"},{\"Code\":\"TB_CASETYPE\",\"Title\":\"TB Case type\"},{\"Code\":\"TB_TREATHISTORY\",\"Title\":\"TB Treatment history\"},{\"Code\":\"TB_TREATMENTTYPE\",\"Title\":\"TB Treatment type\"},{\"Code\":\"TIMEPERIOD\",\"Title\":\"Time period\"},{\"Code\":\"TOBACCO_NICOTINE_PRODUCT\",\"Title\":\"Tobacco and nicotine product\"},{\"Code\":\"UNCERTAINTY_INTERVAL\",\"Title\":\"Uncertainty interval\"},{\"Code\":\"UNICEFREGION\",\"Title\":\"UNICEF region\"},{\"Code\":\"UNREGION\",\"Title\":\"UN Region\"},{\"Code\":\"UNSDGREGION\",\"Title\":\"UN SDG Region\"},{\"Code\":\"VACCINATIONSTATUS\",\"Title\":\"Vaccination status\"},{\"Code\":\"VEHICLESTANDARD\",\"Title\":\"Vehicle standards\"},{\"Code\":\"WEALTHDECILE\",\"Title\":\"Wealth decile\"},{\"Code\":\"WEALTHQUINTILE\",\"Title\":\"Wealth Quintile\"},{\"Code\":\"WEALTHTERCILE\",\"Title\":\"Wealth tercile\"},{\"Code\":\"WHOINCOMEREGION\",\"Title\":\"WHO Income Region\"},{\"Code\":\"WORLDBANKINCOMEGROUP\",\"Title\":\"World Bank income group\"},{\"Code\":\"WORLDBANKREGION\",\"Title\":\"World Bank Region\"},{\"Code\":\"WPR_DATASOURCE\",\"Title\":\"WPRO Data Source\"},{\"Code\":\"WPR_DEMO_IND\",\"Title\":\"WPRO Demo Indicator\"},{\"Code\":\"YEAR\",\"Title\":\"Year\"}]}\n"
     ]
    }
   ],
   "source": [
    "dimension_code = \"MORT\"\n",
    "indicator_code = \"SDGSUICIDE\"\n",
    "\n",
    "# Construct the URL using these codes\n",
    "# url = f\"http://apps.who.int/gho/athena/api/COUNTRY/{country_code}/YEAR/{year_code}/AGEGROUP/{agegroup_code}/SEX/{sex_code}\"\n",
    "url = f\"https://ghoapi.azureedge.net/api/Dimension\"\n",
    "\n",
    "# Make the request to the API\n",
    "response = requests.get(url)\n",
    "\n",
    "# Print the response\n",
    "print(response.text)"
   ]
  },
  {
   "cell_type": "code",
   "execution_count": 19,
   "metadata": {},
   "outputs": [
    {
     "name": "stdout",
     "output_type": "stream",
     "text": [
      "<?xml version=\"1.0\" encoding=\"UTF-8\"?>\n",
      "<GHO Created=\"2024-08-14T14:51:44Z\"\n",
      "     xmlns:xsi=\"http://www.w3.org/2001/XMLSchema-instance\"\n",
      "     xsi:schemaLocation=\"ghodata.xsd\">\n",
      "    <QueryParameter Name=\"format\" Value=\"xml\"/>\n",
      "    <QueryParameter Name=\"baseurl\" Value=\"https://apps.who.int/gho/athena/api/\"/>\n",
      "    <QueryParameter Name=\"filter\" Value=\"COUNTRY:IND;SEX:MLE\"/>\n",
      "    <QueryParameter Name=\"asof\" Value=\"2024-08-14 14:51:44.0\"/>\n",
      "    <QueryParameter Name=\"metadata\" Value=\"active\"/>\n",
      "    <QueryParameter Name=\"target\" Value=\"CYCU/SDGSUICIDE\"/>\n",
      "    <Copyright><Display>(c) World Health Organization</Display></Copyright>\n",
      "    <Disclaimer><Display>The information in this database is provided as a service to our users.\n",
      "Any use of information in the web site should be accompanied by an\n",
      "acknowledgment of WHO as the source. The responsibility for the\n",
      "interpretation and use of the material lies with the user. In no event\n",
      "shall the World Health Organization be liable for any damages arising\n",
      "from the use of the information linked to this section.</Display></Disclaimer>\n",
      "</GHO>\n",
      "\n"
     ]
    }
   ],
   "source": [
    "dimension_code = \"CYCU\"\n",
    "indicator_code = \"SDGSUICIDE\"\n",
    "\n",
    "# Define specific values for each dimension\n",
    "sex_code = \"MLE\"\n",
    "country_code = \"IND\"\n",
    "year_code = \"2020\"\n",
    "agegroup_code = \"AGE10-14\"\n",
    "\n",
    "# Construct the URL using these codes\n",
    "# url = f\"http://apps.who.int/gho/athena/api/COUNTRY/{country_code}/YEAR/{year_code}/AGEGROUP/{agegroup_code}/SEX/{sex_code}\"\n",
    "url = f\"http://apps.who.int/gho/athena/api/{dimension_code}/{indicator_code}?filter=COUNTRY:{country_code};SEX:{sex_code}\"\n",
    "\n",
    "# Make the request to the API\n",
    "response = requests.get(url)\n",
    "\n",
    "# Print the response\n",
    "print(response.text)"
   ]
  },
  {
   "cell_type": "code",
   "execution_count": null,
   "metadata": {},
   "outputs": [],
   "source": []
  }
 ],
 "metadata": {
  "kernelspec": {
   "display_name": "icrc",
   "language": "python",
   "name": "python3"
  },
  "language_info": {
   "codemirror_mode": {
    "name": "ipython",
    "version": 3
   },
   "file_extension": ".py",
   "mimetype": "text/x-python",
   "name": "python",
   "nbconvert_exporter": "python",
   "pygments_lexer": "ipython3",
   "version": "3.9.19"
  }
 },
 "nbformat": 4,
 "nbformat_minor": 2
}
