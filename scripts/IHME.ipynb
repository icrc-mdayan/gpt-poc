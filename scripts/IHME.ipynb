{
 "cells": [
  {
   "cell_type": "code",
   "execution_count": 5,
   "metadata": {},
   "outputs": [],
   "source": [
    "import requests\n",
    "import json\n",
    "import pandas as pd\n",
    "\n",
    "# Your API Secret Key (replace 'YOUR_SECRET_KEY' with the actual key)\n",
    "api_key = 'p3a88u9bwh8d8npn53g7htra8cxgeh8y'\n",
    "\n",
    "# Set the base URL for the API request\n",
    "base_url = \"https://api.healthdata.org/sdg/v1/GetResultsByLocation\"\n",
    "\n",
    "location_id = 149 \n",
    "\n",
    "# Set the year you are interested in\n",
    "year = 2023  # Replace with the desired year\n",
    "\n",
    "# Define the headers with your API key\n",
    "headers = {\n",
    "    'Content-Type': 'application/json',\n",
    "    'Authorization': api_key\n",
    "}\n",
    "\n",
    "# Construct the full API request URL\n",
    "url = f\"{base_url}?year={year}&location_id={location_id}\""
   ]
  },
  {
   "cell_type": "code",
   "execution_count": 6,
   "metadata": {},
   "outputs": [],
   "source": [
    "# Make the GET request to the API\n",
    "response = requests.get(url, headers=headers)\n"
   ]
  },
  {
   "cell_type": "code",
   "execution_count": 7,
   "metadata": {},
   "outputs": [
    {
     "name": "stdout",
     "output_type": "stream",
     "text": [
      "CSV URL not found in the response.\n"
     ]
    }
   ],
   "source": [
    "# Check if the request was successful\n",
    "if response.status_code == 200:\n",
    "    # If successful, parse the JSON data\n",
    "    data = response.json()\n",
    "\n",
    "    # save the json in a json file\n",
    "    with open('palestine_.json', 'w') as f:\n",
    "        json.dump(data, f)\n",
    "\n",
    "    df = pd.DataFrame(data[\"results\"])\n",
    "    with open('palestine.csv', 'w') as f:\n",
    "        df.to_csv(f)\n",
    "\n",
    "    # Assuming the API returns a URL to download the CSV file\n",
    "    csv_url = data.get(\"csv_url\")\n",
    "\n",
    "    if csv_url:\n",
    "        # Download the CSV file\n",
    "        csv_response = requests.get(csv_url)\n",
    "\n",
    "        # Save the CSV file locally\n",
    "        with open(\"nigeria_most_deaths.csv\", \"wb\") as file:\n",
    "            file.write(csv_response.content)\n",
    "\n",
    "        print(\"CSV file downloaded and saved as 'nigeria_most_deaths.csv'.\")\n",
    "    else:\n",
    "        print(\"CSV URL not found in the response.\")\n",
    "else:\n",
    "    print(f\"Failed to retrieve data. Status code: {response.status_code}\")\n",
    "    print(f\"Response: {response.text}\")"
   ]
  },
  {
   "cell_type": "code",
   "execution_count": 8,
   "metadata": {},
   "outputs": [
    {
     "name": "stdout",
     "output_type": "stream",
     "text": [
      "   location_id location_name  year_id  indicator_id      indicator_name  \\\n",
      "0          149     Palestine     2023          1000  HIV incidence rate   \n",
      "\n",
      "   age_group_id age_group_name  sex_id sex_label  scenario scenario_label  \\\n",
      "0            22       All Ages       1     Males        -1          Worse   \n",
      "\n",
      "  indicator_short                              indicator_description  \\\n",
      "0       HIV Incid  Age-standardized rate of new HIV infections (p...   \n",
      "\n",
      "        mean_estimate  \n",
      "0  0.0061116807138815  \n"
     ]
    }
   ],
   "source": [
    "print(df.head(1))"
   ]
  },
  {
   "cell_type": "code",
   "execution_count": 9,
   "metadata": {},
   "outputs": [
    {
     "name": "stdout",
     "output_type": "stream",
     "text": [
      "                                      indicator_name  mean_estimate\n",
      "0       Prevalence of 15 neglected tropical diseases    8586.888830\n",
      "1                    Coverage of measles (two doses)      97.691689\n",
      "2                                   Coverage of DPT3      93.965210\n",
      "3                 Coverage of pneumococcal conjugate      93.885276\n",
      "4  Risk-weighted prevalence of populations using ...      72.470723\n",
      "5  Coverage of essential health services, as defi...      65.244196\n",
      "6                        Tuberculosis incidence rate       7.796083\n",
      "7                                 HIV incidence rate       0.006112\n",
      "8                             Malaria incidence rate       0.000000\n"
     ]
    },
    {
     "name": "stderr",
     "output_type": "stream",
     "text": [
      "/tmp/ipykernel_82029/2988281542.py:10: SettingWithCopyWarning: \n",
      "A value is trying to be set on a copy of a slice from a DataFrame.\n",
      "Try using .loc[row_indexer,col_indexer] = value instead\n",
      "\n",
      "See the caveats in the documentation: https://pandas.pydata.org/pandas-docs/stable/user_guide/indexing.html#returning-a-view-versus-a-copy\n",
      "  all_ages_df['mean_estimate'] = pd.to_numeric(all_ages_df['mean_estimate'], errors='coerce')\n"
     ]
    }
   ],
   "source": [
    "import pandas as pd\n",
    "\n",
    "# Assuming 'df' is your DataFrame obtained from the JSON response\n",
    "\n",
    "# Step 1: Filter the DataFrame for 'All Ages' category\n",
    "all_ages_df = df[df['age_group_name'] == 'All Ages']\n",
    "\n",
    "# Step 2: Select relevant columns and sort by 'mean_estimate'\n",
    "# Convert 'mean_estimate' to numeric (float) if it's not already\n",
    "all_ages_df['mean_estimate'] = pd.to_numeric(all_ages_df['mean_estimate'], errors='coerce')\n",
    "\n",
    "# Group by 'indicator_name' if you want to aggregate (optional)\n",
    "# Here, we will just take the maximum estimate for each disease\n",
    "ranked_df = all_ages_df.groupby('indicator_name').agg({'mean_estimate': 'max'}).reset_index()\n",
    "\n",
    "# Step 3: Sort the DataFrame by 'mean_estimate' in descending order\n",
    "ranked_df = ranked_df.sort_values(by='mean_estimate', ascending=False).reset_index(drop=True)\n",
    "\n",
    "# Display the top N diseases (e.g., top 10)\n",
    "top_diseases = ranked_df.head(10)\n",
    "print(top_diseases)"
   ]
  },
  {
   "cell_type": "code",
   "execution_count": 10,
   "metadata": {},
   "outputs": [
    {
     "name": "stdout",
     "output_type": "stream",
     "text": [
      "Unique values for 'indicator_name':\n",
      "['HIV incidence rate' 'Tuberculosis incidence rate'\n",
      " 'Malaria incidence rate' 'Prevalence of 15 neglected tropical diseases'\n",
      " 'Met need for family planning with modern contraception methods'\n",
      " 'Coverage of essential health services, as defined by the UHC service coverage index'\n",
      " 'Under-5 mortality rate' 'Neonatal mortality rate'\n",
      " 'Prevalence of child stunting'\n",
      " 'Risk-weighted prevalence of populations using unsafe sanitation'\n",
      " 'Maternal mortality ratio (WHO)' 'Coverage of DPT3'\n",
      " 'Coverage of measles (two doses)' 'Coverage of pneumococcal conjugate'\n",
      " 'Prevalence of daily smoking']\n",
      "\n",
      "Unique values for 'age_group_name':\n",
      "['All Ages' '15-49 years' 'Under 5' 'Neonatal' 'Age-standardized']\n",
      "\n",
      "Unique values for 'sex_label':\n",
      "['Males' 'Females' 'Both sexes']\n",
      "\n",
      "Unique values for 'scenario_label':\n",
      "['Worse' 'Reference' 'Better']\n",
      "\n",
      "Unique values for 'indicator_short':\n",
      "['HIV Incid' 'TB Incid' 'Malaria Incid' 'NTD Prev' 'FP Need Met, Mod'\n",
      " 'UHC Index' 'Under-5 Mort' 'Neonatal Mort' 'Child Stunting' 'Sanitation'\n",
      " 'Mat Mort Ratio' 'Vaccine Cov DPT3' 'Vaccine Cov MCV2' 'Vaccine Cov PCV'\n",
      " 'Smoking Prev']\n"
     ]
    }
   ],
   "source": [
    "# Assuming 'df' is your DataFrame\n",
    "\n",
    "# Print all unique values for each specified column\n",
    "print(\"Unique values for 'indicator_name':\")\n",
    "print(df['indicator_name'].unique())\n",
    "\n",
    "print(\"\\nUnique values for 'age_group_name':\")\n",
    "print(df['age_group_name'].unique())\n",
    "\n",
    "print(\"\\nUnique values for 'sex_label':\")\n",
    "print(df['sex_label'].unique())\n",
    "\n",
    "print(\"\\nUnique values for 'scenario_label':\")\n",
    "print(df['scenario_label'].unique())\n",
    "\n",
    "print(\"\\nUnique values for 'indicator_short':\")\n",
    "print(df['indicator_short'].unique())\n"
   ]
  },
  {
   "cell_type": "code",
   "execution_count": null,
   "metadata": {},
   "outputs": [],
   "source": []
  }
 ],
 "metadata": {
  "kernelspec": {
   "display_name": "icrc",
   "language": "python",
   "name": "python3"
  },
  "language_info": {
   "codemirror_mode": {
    "name": "ipython",
    "version": 3
   },
   "file_extension": ".py",
   "mimetype": "text/x-python",
   "name": "python",
   "nbconvert_exporter": "python",
   "pygments_lexer": "ipython3",
   "version": "3.9.19"
  }
 },
 "nbformat": 4,
 "nbformat_minor": 2
}
